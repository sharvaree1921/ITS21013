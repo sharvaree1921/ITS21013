{
  "nbformat": 4,
  "nbformat_minor": 0,
  "metadata": {
    "colab": {
      "name": "Python_resource1_part2.ipynb",
      "provenance": [],
      "collapsed_sections": [],
      "authorship_tag": "ABX9TyP2RrQLT+iOuDrJhwxfy2X5",
      "include_colab_link": true
    },
    "kernelspec": {
      "name": "python3",
      "display_name": "Python 3"
    },
    "language_info": {
      "name": "python"
    }
  },
  "cells": [
    {
      "cell_type": "markdown",
      "metadata": {
        "id": "view-in-github",
        "colab_type": "text"
      },
      "source": [
        "<a href=\"https://colab.research.google.com/github/sharvaree1921/ITS21013/blob/main/Python_resource1_part2.ipynb\" target=\"_parent\"><img src=\"https://colab.research.google.com/assets/colab-badge.svg\" alt=\"Open In Colab\"/></a>"
      ]
    },
    {
      "cell_type": "markdown",
      "metadata": {
        "id": "Yr-8bLhrqZjD"
      },
      "source": [
        "> Date: 8/05/2021\n",
        "# Data Structures\n",
        "### Some operations on lists:\n",
        "   **Note**: Index starts from zero, [ ] denotes optional argument.(Not supposed to be used while passing).  \n",
        "- `list.append(x)`    - add something at the end. = `a[len(a):] = [x].`   \n",
        "   `list.extend(iterable)` , `list.insert(i,x)` - insert x before 'i'th element.  \n",
        "   `list.remove(x)` ,`list.count(x)` ,  `list.clear()` , `list.reverse()`  \n",
        "    `del list[i:j]`or its variations like `[i], [i:]`,etc. i,j=index        \n",
        "    `list.pop([i])` - remove the item at ith position and     return it. i = optional. (If not mentioned, consider last item).    \n",
        "    `list.index(x[, start[, end]])` - search for x from start to end.  \n",
        "    `list.sort(*, key=None, reverse=False)` \n",
        "` , `list.copy()`= `a[ : ]`   \n",
        "- ```python\n",
        "from collections import deque\n",
        "queue = [1,2,3,4]\n",
        "queue.popleft()     # 1 leaves and this returns the value 1.\n",
        "```\n",
        "- List comprehension\n",
        "   ```python\n",
        "   >>> [(x, y) for x in [1,2,3] for y in [3,1,4] if x != y]\n",
        "[(1, 3), (1, 4), (2, 3), (2, 1), (2, 4), (3, 1), (3, 4)]\n",
        "# Note that the append clause is not required here.\n",
        ">>> [num for elem in vec for num in elem]\n",
        "[1, 2, 3, 4, 5, 6, 7, 8, 9]\n",
        "```\n",
        "   Eg of transpose: \n",
        "   `matrix = [ [1, 2, 3, 4],    [5, 6, 7, 8],     [9, 10, 11, 12] ]`\n",
        "\n",
        "   1. ```python\n",
        "   [[row[i] for row in matrix] for i in range(4)]\n",
        "   ```\n",
        "   2. ```python\n",
        "   list(zip(*matrix))\n",
        "   ```\n",
        "   Output: `[(1, 5, 9), (2, 6, 10), (3, 7, 11), (4, 8, 12)]`\n",
        "   \n",
        "## Sequences and Tuples:\n",
        "   Immutable   \n",
        "   Tupple packing:   \n",
        "   ```python\n",
        "   t = 12345, 54321, 'hello!'\n",
        "   ```  \n",
        "   Empty and singleton tuples:\n",
        "   ```python\n",
        "   empty = ()\n",
        "   singleton = 'hello',    # <-- note trailing comma\n",
        "   ```  \n",
        "   Tuple unpacking:  \n",
        "   `x, y, z = t`\n",
        "\n",
        "\n",
        "## Sets:\n",
        "   ordered collection with no dupliacte elements, {} or set() used, empty set= set()\n",
        "- eg of operations: \n",
        "\n",
        "\n",
        "\n",
        "\n",
        "\n",
        "     \n",
        "     \n",
        "\n",
        "     \n",
        "\n",
        "   \n",
        "\n",
        "                              "
      ]
    },
    {
      "cell_type": "code",
      "metadata": {
        "colab": {
          "base_uri": "https://localhost:8080/"
        },
        "id": "GBxTQYEK-vhW",
        "outputId": "f700257c-796a-4cd3-d7c6-41dcd1025f4a"
      },
      "source": [
        "squares = {1,4,4,9}\n",
        "print(squares)\n",
        "print(4 in squares)"
      ],
      "execution_count": null,
      "outputs": [
        {
          "output_type": "stream",
          "text": [
            "{1, 4, 9}\n",
            "True\n"
          ],
          "name": "stdout"
        }
      ]
    },
    {
      "cell_type": "code",
      "metadata": {
        "colab": {
          "base_uri": "https://localhost:8080/"
        },
        "id": "DEDoc6vq_SR1",
        "outputId": "9fab8e0f-db1f-4608-b5a0-ffce0d698434"
      },
      "source": [
        "x = set('abcd')\n",
        "y = set('cdef')\n",
        "print(x-y)\n",
        "print(x|y)\n",
        "print(x & y)\n",
        "print(x ^ y)\n"
      ],
      "execution_count": null,
      "outputs": [
        {
          "output_type": "stream",
          "text": [
            "{'a', 'b'}\n",
            "{'b', 'e', 'd', 'a', 'c', 'f'}\n",
            "{'d', 'c'}\n",
            "{'b', 'e', 'a', 'f'}\n"
          ],
          "name": "stdout"
        }
      ]
    },
    {
      "cell_type": "markdown",
      "metadata": {
        "id": "-B-6FFWCAOQy"
      },
      "source": [
        "- Set comprehension eg:"
      ]
    },
    {
      "cell_type": "code",
      "metadata": {
        "colab": {
          "base_uri": "https://localhost:8080/"
        },
        "id": "g5X6prP2ASni",
        "outputId": "8b75e774-6dcd-4fec-b1ad-03d5a3aa2050"
      },
      "source": [
        "a = {x for x in 'abracadabra' if x not in 'abc'}\n",
        "a"
      ],
      "execution_count": null,
      "outputs": [
        {
          "output_type": "execute_result",
          "data": {
            "text/plain": [
              "{'d', 'r'}"
            ]
          },
          "metadata": {
            "tags": []
          },
          "execution_count": 16
        }
      ]
    },
    {
      "cell_type": "markdown",
      "metadata": {
        "id": "hgjwRtQURjc4"
      },
      "source": [
        "## Dictionary:\n",
        "- Creating, adding :  \n",
        "   `dict = { key1:value1 , key2:value2 , etc. }`  \n",
        "   Adding: `dict[ keyn ] = valuen`  \n",
        "   keys = immutable (eg: strings)\n",
        "- Operations:"
      ]
    },
    {
      "cell_type": "code",
      "metadata": {
        "colab": {
          "base_uri": "https://localhost:8080/"
        },
        "id": "Agv35EWPSjH2",
        "outputId": "85c6bd39-fc70-49da-ea1b-385d77e8a0b8"
      },
      "source": [
        "roll_num = {'JShreya': 1,'SShreya':2,'Tanvi':3}\n",
        "roll_num['Sneha'] = 4\n",
        "print(roll_num['Sneha'])\n",
        "del roll_num['Sneha']\n",
        "print(list(roll_num))\n",
        "print('JShreya' in roll_num)   #bool\n",
        "print('Tanvi' not in roll_num)\n",
        "print(roll_num)\n",
        "print(sorted(roll_num))\n"
      ],
      "execution_count": null,
      "outputs": [
        {
          "output_type": "stream",
          "text": [
            "4\n",
            "['JShreya', 'SShreya', 'Tanvi']\n",
            "True\n",
            "False\n",
            "{'JShreya': 1, 'SShreya': 2, 'Tanvi': 3}\n"
          ],
          "name": "stdout"
        },
        {
          "output_type": "execute_result",
          "data": {
            "text/plain": [
              "['JShreya', 'SShreya', 'Tanvi']"
            ]
          },
          "metadata": {
            "tags": []
          },
          "execution_count": 24
        }
      ]
    },
    {
      "cell_type": "markdown",
      "metadata": {
        "id": "ZJNOnGg5WTZe"
      },
      "source": [
        "- dict() operator and comprehensions:  \n",
        "   `dict[('Jshreya',1), ('SShreya' ,2)`  \n",
        "   `{x:x**2 for x in (1,2,3)`\n",
        "## Looping:"
      ]
    },
    {
      "cell_type": "code",
      "metadata": {
        "colab": {
          "base_uri": "https://localhost:8080/"
        },
        "id": "42gh8zT_XIuQ",
        "outputId": "f28d02f8-dce4-43c9-e7a8-afa4dc93d561"
      },
      "source": [
        "#Basic printing:\n",
        "print('1. Printing')\n",
        "roll_num = {'JShreya': 1,'SShreya':2,'Tanvi':3}\n",
        "for k , v in roll_num.items():                     # retrieving both key and value\n",
        "        print(k,v)\n",
        "\n",
        "# Retrieving position index and corresp value\n",
        "print('2. Retrieving position index and corresp value')\n",
        "for i, v in enumerate(['tic', 'tac', 'toe']):\n",
        "     print(i, v)\n",
        "\n",
        "# Looping over 2 or more sequences:\n",
        "print('3. Multiple looping')\n",
        "num = [1,2,3]\n",
        "square = [1,4,9]\n",
        "for q,a in zip(num , square):\n",
        "  print('Finding sqaure of {0}. It is {1}'.format(q,a))\n",
        "\n",
        "# Looping in reverse\n",
        "print(\"Hehe let's reverse\")\n",
        "for i in reversed(num):\n",
        "  print(i)\n",
        "# Use similar for sorted() also.\n",
        "\n"
      ],
      "execution_count": null,
      "outputs": [
        {
          "output_type": "stream",
          "text": [
            "1. Printing\n",
            "JShreya 1\n",
            "SShreya 2\n",
            "Tanvi 3\n",
            "2. Retrieving position index and corresp value\n",
            "0 tic\n",
            "1 tac\n",
            "2 toe\n",
            "3. Multiple looping\n",
            "Finding sqaure of 1. It is 1\n",
            "Finding sqaure of 2. It is 4\n",
            "Finding sqaure of 3. It is 9\n",
            "Hehe let's reverse\n",
            "3\n",
            "2\n",
            "1\n"
          ],
          "name": "stdout"
        }
      ]
    },
    {
      "cell_type": "markdown",
      "metadata": {
        "id": "et7_NIfrcIPp"
      },
      "source": [
        "- Using Boolean exp:  \n",
        "   `and`, `or`, `not`\n",
        "## Comparisons between sequences/sets happen lexographically:  \n",
        "   first the first two items are compared, and if they differ this determines the outcome of the comparison; if they are equal, the next two items are compared, and so on, until either sequence is exhausted.  \n",
        "   eg: `(1,2,3) < (1,2,4)` is `True`"
      ]
    }
  ]
}